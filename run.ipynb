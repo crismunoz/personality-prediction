{
 "cells": [
  {
   "cell_type": "code",
   "execution_count": 25,
   "metadata": {},
   "outputs": [
    {
     "name": "stdout",
     "output_type": "stream",
     "text": [
      "3125\n",
      "3125\n"
     ]
    }
   ],
   "source": [
    "import pickle\n",
    "\n",
    "dataset='generated_text'\n",
    "embed=\"bert-base\"\n",
    "mode=\"512_head\"\n",
    "embed_mode=\"cls\"\n",
    "inp_dir=\"pkl_data/\"\n",
    "author_ids = []\n",
    "for chunk_id in range(2):\n",
    "    file = open(\n",
    "        inp_dir + dataset + \"-\" + embed + \"-\" + embed_mode + \"-\" + mode + \"-\" + str(chunk_id) +\".pkl\", \"rb\"\n",
    "    )\n",
    "    data = pickle.load(file)\n",
    "    author_ids_x, data_x = list(zip(*data))\n",
    "    print(len(author_ids_x))\n",
    "    file.close()\n",
    "    author_ids+=list(author_ids_x)\n",
    "author_ids = [a for a in author_ids for aa in a]"
   ]
  },
  {
   "cell_type": "code",
   "execution_count": null,
   "metadata": {},
   "outputs": [],
   "source": [
    "from utils.data_utils import MyNewMapDataset\n",
    "from inference.LM_extractor import get_model\n",
    "import torch\n",
    "\n",
    "embed=\"bert-base\"\n",
    "model, tokenizer, n_hl, hidden_dim = get_model(embed)\n",
    "dataset=\"generated_text\"\n",
    "datafile=r\"C:\\Users\\Cristian\\Documents\\HolisticAI\\repos\\neural_nets_personality\\outputs\\organized_text\\trait_activating_questions_clean.csv\"\n",
    "token_length=512\n",
    "DEVICE = torch.device(\"cuda\")\n",
    "mode=\"512_head\"\n",
    "chunk_id=0\n",
    "total_chunks=1\n",
    "map_dataset = MyNewMapDataset(dataset, datafile, tokenizer, token_length, DEVICE, mode, chunk_id, total_chunks)"
   ]
  },
  {
   "cell_type": "code",
   "execution_count": 50,
   "metadata": {},
   "outputs": [
    {
     "data": {
      "text/plain": [
       "tensor([ 101, 2330, 2791,  102,    0,    0,    0,    0,    0,    0],\n",
       "       device='cuda:0')"
      ]
     },
     "execution_count": 50,
     "metadata": {},
     "output_type": "execute_result"
    }
   ],
   "source": [
    "map_dataset[301][1][:10]"
   ]
  },
  {
   "cell_type": "code",
   "execution_count": 12,
   "metadata": {},
   "outputs": [
    {
     "data": {
      "text/html": [
       "<div>\n",
       "<style scoped>\n",
       "    .dataframe tbody tr th:only-of-type {\n",
       "        vertical-align: middle;\n",
       "    }\n",
       "\n",
       "    .dataframe tbody tr th {\n",
       "        vertical-align: top;\n",
       "    }\n",
       "\n",
       "    .dataframe thead th {\n",
       "        text-align: right;\n",
       "    }\n",
       "</style>\n",
       "<table border=\"1\" class=\"dataframe\">\n",
       "  <thead>\n",
       "    <tr style=\"text-align: right;\">\n",
       "      <th></th>\n",
       "      <th>Unnamed: 0</th>\n",
       "      <th>EXT_0</th>\n",
       "      <th>EXT_1</th>\n",
       "      <th>NEU_0</th>\n",
       "      <th>NEU_1</th>\n",
       "      <th>AGR_0</th>\n",
       "      <th>AGR_1</th>\n",
       "      <th>CON_0</th>\n",
       "      <th>CON_1</th>\n",
       "      <th>OPN_0</th>\n",
       "      <th>...</th>\n",
       "      <th>network</th>\n",
       "      <th>lr</th>\n",
       "      <th>batch_size</th>\n",
       "      <th>epochs</th>\n",
       "      <th>model_input</th>\n",
       "      <th>embed</th>\n",
       "      <th>layer</th>\n",
       "      <th>mode</th>\n",
       "      <th>embed_mode</th>\n",
       "      <th>jobid</th>\n",
       "    </tr>\n",
       "  </thead>\n",
       "  <tbody>\n",
       "    <tr>\n",
       "      <th>0</th>\n",
       "      <td>0</td>\n",
       "      <td>-0.511496</td>\n",
       "      <td>0.378937</td>\n",
       "      <td>0.30485</td>\n",
       "      <td>0.422386</td>\n",
       "      <td>-0.695632</td>\n",
       "      <td>0.352473</td>\n",
       "      <td>0.254014</td>\n",
       "      <td>0.685831</td>\n",
       "      <td>-1.133717</td>\n",
       "      <td>...</td>\n",
       "      <td>MLP</td>\n",
       "      <td>0.0005</td>\n",
       "      <td>32</td>\n",
       "      <td>10</td>\n",
       "      <td>LM_features</td>\n",
       "      <td>bert-base</td>\n",
       "      <td>11</td>\n",
       "      <td>512_head</td>\n",
       "      <td>cls</td>\n",
       "      <td>0</td>\n",
       "    </tr>\n",
       "    <tr>\n",
       "      <th>1</th>\n",
       "      <td>1</td>\n",
       "      <td>-0.511496</td>\n",
       "      <td>0.378937</td>\n",
       "      <td>0.30485</td>\n",
       "      <td>0.422386</td>\n",
       "      <td>-0.695632</td>\n",
       "      <td>0.352473</td>\n",
       "      <td>0.254014</td>\n",
       "      <td>0.685831</td>\n",
       "      <td>-1.133717</td>\n",
       "      <td>...</td>\n",
       "      <td>MLP</td>\n",
       "      <td>0.0005</td>\n",
       "      <td>32</td>\n",
       "      <td>10</td>\n",
       "      <td>LM_features</td>\n",
       "      <td>bert-base</td>\n",
       "      <td>11</td>\n",
       "      <td>512_head</td>\n",
       "      <td>cls</td>\n",
       "      <td>0</td>\n",
       "    </tr>\n",
       "    <tr>\n",
       "      <th>2</th>\n",
       "      <td>2</td>\n",
       "      <td>-0.511496</td>\n",
       "      <td>0.378937</td>\n",
       "      <td>0.30485</td>\n",
       "      <td>0.422386</td>\n",
       "      <td>-0.695632</td>\n",
       "      <td>0.352473</td>\n",
       "      <td>0.254014</td>\n",
       "      <td>0.685831</td>\n",
       "      <td>-1.133717</td>\n",
       "      <td>...</td>\n",
       "      <td>MLP</td>\n",
       "      <td>0.0005</td>\n",
       "      <td>32</td>\n",
       "      <td>10</td>\n",
       "      <td>LM_features</td>\n",
       "      <td>bert-base</td>\n",
       "      <td>11</td>\n",
       "      <td>512_head</td>\n",
       "      <td>cls</td>\n",
       "      <td>0</td>\n",
       "    </tr>\n",
       "    <tr>\n",
       "      <th>3</th>\n",
       "      <td>3</td>\n",
       "      <td>-0.511496</td>\n",
       "      <td>0.378937</td>\n",
       "      <td>0.30485</td>\n",
       "      <td>0.422386</td>\n",
       "      <td>-0.695632</td>\n",
       "      <td>0.352473</td>\n",
       "      <td>0.254014</td>\n",
       "      <td>0.685831</td>\n",
       "      <td>-1.133717</td>\n",
       "      <td>...</td>\n",
       "      <td>MLP</td>\n",
       "      <td>0.0005</td>\n",
       "      <td>32</td>\n",
       "      <td>10</td>\n",
       "      <td>LM_features</td>\n",
       "      <td>bert-base</td>\n",
       "      <td>11</td>\n",
       "      <td>512_head</td>\n",
       "      <td>cls</td>\n",
       "      <td>0</td>\n",
       "    </tr>\n",
       "    <tr>\n",
       "      <th>4</th>\n",
       "      <td>4</td>\n",
       "      <td>-0.511496</td>\n",
       "      <td>0.378937</td>\n",
       "      <td>0.30485</td>\n",
       "      <td>0.422386</td>\n",
       "      <td>-0.695632</td>\n",
       "      <td>0.352473</td>\n",
       "      <td>0.254014</td>\n",
       "      <td>0.685831</td>\n",
       "      <td>-1.133717</td>\n",
       "      <td>...</td>\n",
       "      <td>MLP</td>\n",
       "      <td>0.0005</td>\n",
       "      <td>32</td>\n",
       "      <td>10</td>\n",
       "      <td>LM_features</td>\n",
       "      <td>bert-base</td>\n",
       "      <td>11</td>\n",
       "      <td>512_head</td>\n",
       "      <td>cls</td>\n",
       "      <td>0</td>\n",
       "    </tr>\n",
       "  </tbody>\n",
       "</table>\n",
       "<p>5 rows × 21 columns</p>\n",
       "</div>"
      ],
      "text/plain": [
       "   Unnamed: 0     EXT_0     EXT_1    NEU_0     NEU_1     AGR_0     AGR_1  \\\n",
       "0           0 -0.511496  0.378937  0.30485  0.422386 -0.695632  0.352473   \n",
       "1           1 -0.511496  0.378937  0.30485  0.422386 -0.695632  0.352473   \n",
       "2           2 -0.511496  0.378937  0.30485  0.422386 -0.695632  0.352473   \n",
       "3           3 -0.511496  0.378937  0.30485  0.422386 -0.695632  0.352473   \n",
       "4           4 -0.511496  0.378937  0.30485  0.422386 -0.695632  0.352473   \n",
       "\n",
       "      CON_0     CON_1     OPN_0  ...  network      lr  batch_size  epochs  \\\n",
       "0  0.254014  0.685831 -1.133717  ...      MLP  0.0005          32      10   \n",
       "1  0.254014  0.685831 -1.133717  ...      MLP  0.0005          32      10   \n",
       "2  0.254014  0.685831 -1.133717  ...      MLP  0.0005          32      10   \n",
       "3  0.254014  0.685831 -1.133717  ...      MLP  0.0005          32      10   \n",
       "4  0.254014  0.685831 -1.133717  ...      MLP  0.0005          32      10   \n",
       "\n",
       "   model_input      embed layer      mode embed_mode jobid  \n",
       "0  LM_features  bert-base    11  512_head        cls     0  \n",
       "1  LM_features  bert-base    11  512_head        cls     0  \n",
       "2  LM_features  bert-base    11  512_head        cls     0  \n",
       "3  LM_features  bert-base    11  512_head        cls     0  \n",
       "4  LM_features  bert-base    11  512_head        cls     0  \n",
       "\n",
       "[5 rows x 21 columns]"
      ]
     },
     "execution_count": 12,
     "metadata": {},
     "output_type": "execute_result"
    }
   ],
   "source": [
    "import pandas as pd\n",
    "\n",
    "results_essays_path = r'C:\\Users\\Cristian\\Documents\\HolisticAI\\repos\\personality-prediction\\explogs\\dataset_inference_essays_generated_text.csv'\n",
    "df_essays =  pd.read_csv(results_essays_path)\n",
    "df_essays.head()"
   ]
  },
  {
   "cell_type": "code",
   "execution_count": 15,
   "metadata": {},
   "outputs": [
    {
     "name": "stdout",
     "output_type": "stream",
     "text": [
      "[1]\n"
     ]
    }
   ],
   "source": [
    "import numpy as np\n",
    "\n",
    "for c in [\"EXT\", \"NEU\", \"AGR\", \"CON\", \"OPN\"]:\n",
    "    print(df_essays[[f\"{c}_0\",f\"{c}_1\"]].apply(lambda row: np.argmax(row.values), axis=1).unique())\n",
    "    break"
   ]
  },
  {
   "cell_type": "code",
   "execution_count": 24,
   "metadata": {},
   "outputs": [
    {
     "data": {
      "text/plain": [
       "200000"
      ]
     },
     "execution_count": 24,
     "metadata": {},
     "output_type": "execute_result"
    }
   ],
   "source": [
    "len(df_essays)#['EXT_0'].max()"
   ]
  }
 ],
 "metadata": {
  "interpreter": {
   "hash": "72d77abdf3cbaa7a26a7e55aa6c7dc26f430280e8412a9483179486c90d47c30"
  },
  "kernelspec": {
   "display_name": "Python 3.9.0 ('personality')",
   "language": "python",
   "name": "python3"
  },
  "language_info": {
   "codemirror_mode": {
    "name": "ipython",
    "version": 3
   },
   "file_extension": ".py",
   "mimetype": "text/x-python",
   "name": "python",
   "nbconvert_exporter": "python",
   "pygments_lexer": "ipython3",
   "version": "3.9.0"
  },
  "orig_nbformat": 4
 },
 "nbformat": 4,
 "nbformat_minor": 2
}
